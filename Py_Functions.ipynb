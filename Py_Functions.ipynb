{
 "cells": [
  {
   "cell_type": "markdown",
   "id": "ea9e88a6",
   "metadata": {},
   "source": [
    "# Python Functions\n",
    "\n",
    "A function is a block of code which only runs when it is called.\n",
    "\n",
    "You can pass data, known as parameters, into a function.\n",
    "\n",
    "A function can return data as a result."
   ]
  },
  {
   "cell_type": "markdown",
   "id": "244e4df2",
   "metadata": {},
   "source": [
    "### creating a function\n",
    "In Python a function is defined using the def keyword:"
   ]
  },
  {
   "cell_type": "code",
   "execution_count": 2,
   "id": "02048104",
   "metadata": {},
   "outputs": [],
   "source": [
    "def my_function():\n",
    "    print('Hello Assan')"
   ]
  },
  {
   "cell_type": "markdown",
   "id": "5923ead8",
   "metadata": {},
   "source": [
    "### Calling a Function\n",
    "To call a function, use the function name followed by parenthesis:"
   ]
  },
  {
   "cell_type": "code",
   "execution_count": 3,
   "id": "e8e1156a",
   "metadata": {},
   "outputs": [
    {
     "name": "stdout",
     "output_type": "stream",
     "text": [
      "Hello Assan\n"
     ]
    }
   ],
   "source": [
    "def my_function():\n",
    "    print('Hello Assan')\n",
    "    \n",
    "my_function()"
   ]
  },
  {
   "cell_type": "markdown",
   "id": "649fd4ee",
   "metadata": {},
   "source": [
    "### Arguments\n",
    "Information can be passed into functions as arguments.\n",
    "\n",
    "Arguments are specified after the function name, inside the parentheses. You can add as many arguments as you want, just separate them with a comma.\n",
    "\n",
    "The following example has a function with one argument (fname). When the function is called, we pass along a first name, which is used inside the function to print the full name:"
   ]
  },
  {
   "cell_type": "code",
   "execution_count": 7,
   "id": "40f2d520",
   "metadata": {},
   "outputs": [
    {
     "name": "stdout",
     "output_type": "stream",
     "text": [
      "Assan hussen\n"
     ]
    }
   ],
   "source": [
    "def my_function(fname):\n",
    "    print(fname + ' hussen')\n",
    "    \n",
    "my_function('Assan')"
   ]
  },
  {
   "cell_type": "markdown",
   "id": "c0e7007c",
   "metadata": {},
   "source": [
    "### Number of Arguments\n",
    "By default, a function must be called with the correct number of arguments. Meaning that if your function expects 2 arguments, you have to call the function with 2 arguments, not more, and not less."
   ]
  },
  {
   "cell_type": "code",
   "execution_count": 8,
   "id": "d847ce72",
   "metadata": {},
   "outputs": [
    {
     "name": "stdout",
     "output_type": "stream",
     "text": [
      "Assan kalagotla\n"
     ]
    }
   ],
   "source": [
    "def person(fname,lname):\n",
    "    print(fname + ' ' + lname)\n",
    "\n",
    "person('Assan','kalagotla')"
   ]
  },
  {
   "cell_type": "code",
   "execution_count": 10,
   "id": "d161f332",
   "metadata": {},
   "outputs": [],
   "source": [
    "# If you try to call the function with 1 or 3 arguments, you will get an error:\n",
    "\n",
    "def person(fname,lname):       #------> here given 2 arguments\n",
    "    print(fname + ' ' + lname)    \n",
    "\n",
    "# person('Assan')    # uncomment to see an TypeError ----> we given only one argument"
   ]
  },
  {
   "cell_type": "markdown",
   "id": "60759655",
   "metadata": {},
   "source": [
    "### Arbitrary Arguments, *args\n",
    "If you do not know how many arguments that will be passed into your function, add a * before the parameter name in the function definition.\n",
    "\n",
    "This way the function will receive a tuple of arguments, and can access the items accordingly:"
   ]
  },
  {
   "cell_type": "code",
   "execution_count": 16,
   "id": "3b533e8e",
   "metadata": {},
   "outputs": [
    {
     "name": "stdout",
     "output_type": "stream",
     "text": [
      "Assan\n",
      "\n",
      "(21, 'Giddalur', 9876543210)\n"
     ]
    }
   ],
   "source": [
    "def person(name,*data):\n",
    "    print(name,data,sep='\\n\\n')\n",
    "    \n",
    "person('Assan',21,'Giddalur',9876543210)"
   ]
  },
  {
   "cell_type": "code",
   "execution_count": 15,
   "id": "e04ba7ba",
   "metadata": {},
   "outputs": [],
   "source": [
    "def person(name,*data):\n",
    "    print(name,data,sep='\\n\\n')\n",
    "# person('Assan' , age = 29 , city = 'Giddalur' , phone = 9876543210) #---> uncomment to see an Type error"
   ]
  },
  {
   "cell_type": "code",
   "execution_count": 17,
   "id": "af72e8ea",
   "metadata": {},
   "outputs": [
    {
     "name": "stdout",
     "output_type": "stream",
     "text": [
      "Assan 21 Giddalur 9876543210\n"
     ]
    }
   ],
   "source": [
    "def person(name,age,city,phone):\n",
    "    print(name,age,city,phone)\n",
    "    \n",
    "person(name = 'Assan' , age = 21 , city = 'Giddalur' , phone = 9876543210)"
   ]
  },
  {
   "cell_type": "markdown",
   "id": "f29c5bfc",
   "metadata": {},
   "source": [
    "### Arbitrary Keyword Arguments, **kwargs\n",
    "If you do not know how many keyword arguments that will be passed into your function, add two asterisk: ** before the parameter name in the function definition.\n",
    "\n",
    "This way the function will receive a dictionary of arguments, and can access the items accordingly:"
   ]
  },
  {
   "cell_type": "code",
   "execution_count": 18,
   "id": "be0b07d9",
   "metadata": {},
   "outputs": [
    {
     "name": "stdout",
     "output_type": "stream",
     "text": [
      "Assan\n",
      "\n",
      "{'age': 29, 'city': 'Giddalur', 'phone': 9876543210}\n"
     ]
    }
   ],
   "source": [
    "def person(name,**data):\n",
    "    print(name,data,sep='\\n\\n')\n",
    "    \n",
    "person('Assan' , age = 29 , city = 'Giddalur' , phone = 9876543210) "
   ]
  },
  {
   "cell_type": "markdown",
   "id": "febeb6b7",
   "metadata": {},
   "source": [
    "### Default Parameter Value\n",
    "The following example shows how to use a default parameter value.\n",
    "\n",
    "If we call the function without argument, it uses the default value:"
   ]
  },
  {
   "cell_type": "code",
   "execution_count": 22,
   "id": "34e009ba",
   "metadata": {},
   "outputs": [
    {
     "name": "stdout",
     "output_type": "stream",
     "text": [
      "Iam from India\n",
      "Iam from America\n",
      "Iam from Sweden\n",
      "Iam from Brazil\n"
     ]
    }
   ],
   "source": [
    "def my_function(country = 'India'):\n",
    "    print('Iam from',country)\n",
    "my_function()\n",
    "my_function('America')\n",
    "my_function('Sweden')\n",
    "my_function('Brazil')"
   ]
  },
  {
   "cell_type": "markdown",
   "id": "e695a977",
   "metadata": {},
   "source": [
    "## Passing a List as an Argument\n",
    "### (string, number, list, dictionary etc.)\n",
    "You can send any data types of argument to a function (string, number, list, dictionary etc.), and it will be treated as the same data type inside the function.\n",
    "\n",
    "E.g. if you send a List as an argument, it will still be a List when it reaches the function:"
   ]
  },
  {
   "cell_type": "code",
   "execution_count": 30,
   "id": "fc52dcd8",
   "metadata": {},
   "outputs": [
    {
     "name": "stdout",
     "output_type": "stream",
     "text": [
      "Assan\n",
      "21\n",
      "Giddalur\n",
      "523356\n"
     ]
    }
   ],
   "source": [
    "def my_list(x):\n",
    "    for y in x:\n",
    "        print(y)\n",
    "        \n",
    "lst = ['Assan',21,'Giddalur',523356]\n",
    "\n",
    "my_list(lst)"
   ]
  },
  {
   "cell_type": "code",
   "execution_count": 31,
   "id": "8b0c5fd5",
   "metadata": {},
   "outputs": [
    {
     "name": "stdout",
     "output_type": "stream",
     "text": [
      "['Assan', 21, 'Giddalur', 523356]\n"
     ]
    }
   ],
   "source": [
    "def my_list(x):\n",
    "    print(x)\n",
    "    \n",
    "lst = ['Assan',21,'Giddalur',523356]\n",
    "\n",
    "my_list(lst)"
   ]
  },
  {
   "cell_type": "code",
   "execution_count": 32,
   "id": "bff7ffad",
   "metadata": {},
   "outputs": [
    {
     "name": "stdout",
     "output_type": "stream",
     "text": [
      "{'name': 'Assan', 'age': 21, 'phone': 9876543210, 'city': 'Giddalur'}\n"
     ]
    }
   ],
   "source": [
    "def my_dict(x):\n",
    "    print(x)\n",
    "    \n",
    "dict1 = {'name':'Assan','age':21,'phone':9876543210,'city':'Giddalur'}\n",
    "\n",
    "my_dict(dict1)"
   ]
  },
  {
   "cell_type": "markdown",
   "id": "bc18cbc2",
   "metadata": {},
   "source": [
    "### Return Values\n",
    "To let a function return a value, use the return statement:"
   ]
  },
  {
   "cell_type": "code",
   "execution_count": 33,
   "id": "825894db",
   "metadata": {},
   "outputs": [
    {
     "data": {
      "text/plain": [
       "5"
      ]
     },
     "execution_count": 33,
     "metadata": {},
     "output_type": "execute_result"
    }
   ],
   "source": [
    "def add(x,y):\n",
    "    return x+y\n",
    "\n",
    "add(2,3)"
   ]
  },
  {
   "cell_type": "code",
   "execution_count": 34,
   "id": "558028fe",
   "metadata": {},
   "outputs": [
    {
     "name": "stdout",
     "output_type": "stream",
     "text": [
      "5\n",
      "911\n",
      "14680\n"
     ]
    }
   ],
   "source": [
    "def add(x,y):\n",
    "    return x+y\n",
    "\n",
    "print(add(2,3))\n",
    "print(add(234,677))\n",
    "print(add(13245,1435))"
   ]
  },
  {
   "cell_type": "code",
   "execution_count": 35,
   "id": "35346370",
   "metadata": {},
   "outputs": [
    {
     "name": "stdout",
     "output_type": "stream",
     "text": [
      "10\n",
      "30\n",
      "45\n"
     ]
    }
   ],
   "source": [
    "def add(x):\n",
    "    return x*5\n",
    "\n",
    "print(add(2))\n",
    "print(add(6))\n",
    "print(add(9))"
   ]
  },
  {
   "cell_type": "markdown",
   "id": "5c46b5d2",
   "metadata": {},
   "source": [
    "### The pass Statement\n",
    "function definitions cannot be empty, but if you for some reason have a function definition with no content,\n",
    "put in the pass statement to avoid getting an error."
   ]
  },
  {
   "cell_type": "code",
   "execution_count": 36,
   "id": "c6a3378e",
   "metadata": {},
   "outputs": [],
   "source": [
    "def my_function():\n",
    "    pass"
   ]
  },
  {
   "cell_type": "markdown",
   "id": "b0d9b8a9",
   "metadata": {},
   "source": [
    "## Recursion\n",
    "Python also accepts function recursion, which means a defined function can call itself.\n",
    "\n",
    "Recursion is a common mathematical and programming concept. It means that a function calls itself. This has the benefit of meaning that you can loop through data to reach a result.\n",
    "\n",
    "The developer should be very careful with recursion as it can be quite easy to slip into writing a function which never terminates, or one that uses excess amounts of memory or processor power. However, when written correctly recursion can be a very efficient and mathematically-elegant approach to programming.\n",
    "\n",
    "In this example, tri_recursion() is a function that we have defined to call itself (\"recurse\"). We use the k variable as the data, which decrements (-1) every time we recurse. The recursion ends when the condition is not greater than 0 (i.e. when it is 0).\n",
    "\n",
    "To a new developer it can take some time to work out how exactly this works, best way to find out is by testing and modifying it."
   ]
  },
  {
   "cell_type": "code",
   "execution_count": 1,
   "id": "fb985553",
   "metadata": {},
   "outputs": [
    {
     "name": "stdout",
     "output_type": "stream",
     "text": [
      "120\n"
     ]
    }
   ],
   "source": [
    "# we have to find the factorial by using recursion?\n",
    "\n",
    "\n",
    "def fact(n):\n",
    "    if n==0:\n",
    "        return 1\n",
    "    return n * fact(n-1)\n",
    "result = fact(5)\n",
    "print(result)"
   ]
  },
  {
   "cell_type": "code",
   "execution_count": 5,
   "id": "9028d731",
   "metadata": {},
   "outputs": [
    {
     "name": "stdout",
     "output_type": "stream",
     "text": [
      "120\n"
     ]
    }
   ],
   "source": [
    "# without recursion?\n",
    "def fact(n):\n",
    "    a = 1\n",
    "    for i in range(1,n+1):\n",
    "        a*=i\n",
    "    return a\n",
    "result = fact(5)\n",
    "print(result)"
   ]
  }
 ],
 "metadata": {
  "kernelspec": {
   "display_name": "Python 3 (ipykernel)",
   "language": "python",
   "name": "python3"
  },
  "language_info": {
   "codemirror_mode": {
    "name": "ipython",
    "version": 3
   },
   "file_extension": ".py",
   "mimetype": "text/x-python",
   "name": "python",
   "nbconvert_exporter": "python",
   "pygments_lexer": "ipython3",
   "version": "3.10.9"
  }
 },
 "nbformat": 4,
 "nbformat_minor": 5
}
